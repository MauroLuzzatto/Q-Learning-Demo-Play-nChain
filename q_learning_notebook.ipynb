{
 "cells": [
  {
   "cell_type": "markdown",
   "metadata": {},
   "source": [
    "# Reinforcement Learning Notebook\n",
    "## Introduction to Q-Learning Algorithm\n",
    "This notebook is inspired by the following notebook: [Deep Reinforcement Learning Course Notebook](https://github.com/simoninithomas/Deep_reinforcement_learning_Course/blob/master/Q%20learning/Taxi-v2/Q%20Learning%20with%20OpenAI%20Taxi-v2%20video%20version.ipynb) \n",
    "\n"
   ]
  },
  {
   "cell_type": "markdown",
   "metadata": {},
   "source": [
    "## The n-Chain environment from OpenAI Gym\n",
    "\n",
    "\n",
    "The [n-Chain](https://gym.openai.com/envs/NChain-v0/) environment is taken from the OpenAI Gym module (official documentation). It is a simple, toy environment that train reinforcement learning agents.\n",
    "\n",
    "Within the game an agent can moves along a linear chain of states, using two actions:\n",
    "* action `0`: move forward along the chain, but get no reward \n",
    "* action `1`: move backward to state 0, get small reward of 2\n",
    "\n",
    "However, the end of the chain offers a large reward of 10, and by moving 'forward' at the end of the chain this large reward can be repeatedly win."
   ]
  },
  {
   "cell_type": "code",
   "execution_count": 73,
   "metadata": {},
   "outputs": [
    {
     "data": {
      "image/png": "[encoded data removed]",
      "text/plain": [
       "<IPython.core.display.Image object>"
      ]
     },
     "execution_count": 73,
     "metadata": {
      "image/png": {
       "width": 1000
      }
     },
     "output_type": "execute_result"
    }
   ],
   "source": [
    "from IPython.display import Image\n",
    "Image(filename = 'images/NChain-illustration.png', width=1000)\n",
    "# source: https://adventuresinmachinelearning.com/reinforcement-learning-tutorial-python-keras/"
   ]
  },
  {
   "cell_type": "markdown",
   "metadata": {},
   "source": [
    "## Idea of this notebook\n",
    "Let different q-learning agents play the N-Chain evironment and see how the choosen hyperparameters change the game outcome\n",
    "\n",
    "- 🤓 Smart Agent 1: the agent explores and takes future rewards into account\n",
    "- 🤑 Greedy Agent 2: the agent cares only about immediate rewards (small gamma)\n",
    "- 😳 Shy Agent 3: the agent doesn't explore the environment (small epsilon)\n",
    "\n"
   ]
  },
  {
   "cell_type": "code",
   "execution_count": 74,
   "metadata": {},
   "outputs": [
    {
     "name": "stdout",
     "output_type": "stream",
     "text": [
      "Requirement already satisfied: gym==0.13.1 in c:\\users\\maurol\\anaconda3\\envs\\nchain_env\\lib\\site-packages (0.13.1)\n",
      "Requirement already satisfied: pyglet<=1.3.2,>=1.2.0 in c:\\users\\maurol\\anaconda3\\envs\\nchain_env\\lib\\site-packages (from gym==0.13.1) (1.3.2)\n",
      "Requirement already satisfied: six in c:\\users\\maurol\\anaconda3\\envs\\nchain_env\\lib\\site-packages (from gym==0.13.1) (1.16.0)\n",
      "Requirement already satisfied: scipy in c:\\users\\maurol\\anaconda3\\envs\\nchain_env\\lib\\site-packages (from gym==0.13.1) (1.8.0)\n",
      "Requirement already satisfied: numpy>=1.10.4 in c:\\users\\maurol\\anaconda3\\envs\\nchain_env\\lib\\site-packages (from gym==0.13.1) (1.22.3)\n",
      "Requirement already satisfied: cloudpickle~=1.2.0 in c:\\users\\maurol\\anaconda3\\envs\\nchain_env\\lib\\site-packages (from gym==0.13.1) (1.2.2)\n",
      "Requirement already satisfied: future in c:\\users\\maurol\\anaconda3\\envs\\nchain_env\\lib\\site-packages (from pyglet<=1.3.2,>=1.2.0->gym==0.13.1) (0.18.2)\n"
     ]
    }
   ],
   "source": [
    "# install the gym module that contains the NChain environment\n",
    "!pip install gym==0.13.1"
   ]
  },
  {
   "cell_type": "code",
   "execution_count": 75,
   "metadata": {},
   "outputs": [],
   "source": [
    "# load the necessary python modules\n",
    "import numpy as np\n",
    "import matplotlib.pyplot as plt\n",
    "from tabulate import tabulate\n",
    "import random\n",
    "import gym\n",
    "import sys\n",
    "import warnings\n",
    "import time\n",
    "\n",
    "# ignore warnings\n",
    "if not sys.warnoptions:\n",
    "    warnings.simplefilter(\"ignore\")"
   ]
  },
  {
   "cell_type": "code",
   "execution_count": 76,
   "metadata": {},
   "outputs": [],
   "source": [
    "# initialize the nchain environment\n",
    "env = gym.make('NChain-v0')"
   ]
  },
  {
   "cell_type": "code",
   "execution_count": 77,
   "metadata": {},
   "outputs": [
    {
     "data": {
      "text/plain": [
       "[0, 1, 1, 1, 1, 0, 0, 0, 1, 1]"
      ]
     },
     "execution_count": 77,
     "metadata": {},
     "output_type": "execute_result"
    }
   ],
   "source": [
    "# get 10 randomly sampled actions\n",
    "[env.action_space.sample() for ii in range(10)]"
   ]
  },
  {
   "cell_type": "markdown",
   "metadata": {},
   "source": [
    "define the class which consists the q-learning algorithm"
   ]
  },
  {
   "cell_type": "code",
   "execution_count": 78,
   "metadata": {},
   "outputs": [],
   "source": [
    "class Qagent(object):\n",
    "    \"\"\"\n",
    "    Implementation of a Q-learning Algorithm\n",
    "    \"\"\"\n",
    "\n",
    "    def __init__(\n",
    "        self,\n",
    "        action_size: int,\n",
    "        state_size: int,\n",
    "        learning_parameters: dict,\n",
    "        exploration_parameters: dict,\n",
    "        name: str = \"agent\",\n",
    "        color: str = \"r\",\n",
    "    ) -> None:\n",
    "        \"\"\" initialize the q-learning agent\n",
    "\n",
    "        Args:\n",
    "            action_size (int): number of actions the agent can take\n",
    "            state_size (int): numbe of states the env has\n",
    "            learning_parameters (dict): learning paramters of the agent\n",
    "            exploration_parameters (dict): exploration paramters for the agent\n",
    "            name (str, optional):  set the name of the Q-Agent. Defaults to \"agent\".\n",
    "            color (str, optional): set the color of the agent for plotting. Defaults to \"r\".\n",
    "        \"\"\"\n",
    "        self.name = name\n",
    "        self.color = color\n",
    "\n",
    "        self.action_size = action_size\n",
    "        self.state_size = state_size\n",
    "        self.qtable = np.zeros((state_size, action_size))\n",
    "\n",
    "        self.learning_rate = learning_parameters[\"learning_rate\"]\n",
    "        self.gamma = learning_parameters[\"gamma\"]\n",
    "\n",
    "        self.epsilon = exploration_parameters[\"epsilon\"]\n",
    "        self.max_epsilon = exploration_parameters[\"max_epsilon\"]\n",
    "        self.min_epsilon = exploration_parameters[\"min_epsilon\"]\n",
    "        self.decay_rate = exploration_parameters[\"decay_rate\"]\n",
    "\n",
    "    def update_qtable(\n",
    "        self, state: int, new_state: int, action: int, reward: int, done: bool\n",
    "    ) -> None:\n",
    "        \"\"\"\n",
    "        update the q-table: Q(s,a) = Q(s,a) + lr  * [R(s,a) + gamma * max Q(s',a') - Q (s,a)]\n",
    "\n",
    "        Args:\n",
    "          state (int): current state of the environment\n",
    "          new_state (int): new state of the environment\n",
    "          action (int): current action taken by agent\n",
    "          reward (int): current reward received from env\n",
    "          done (boolean): variable indicating if env is done\n",
    "        \"\"\"\n",
    "        new_qvalue = (\n",
    "            reward\n",
    "            + self.gamma * np.max(self.qtable[new_state, :]) * (1 - done)\n",
    "            - self.qtable[state, action]\n",
    "        )\n",
    "        self.qtable[state, action] = (\n",
    "            self.qtable[state, action] + self.learning_rate * new_qvalue\n",
    "        )\n",
    "\n",
    "    def update_epsilon(self, episode: int) -> None:\n",
    "        \"\"\"\n",
    "        reduce epsilon, exponential decay\n",
    "\n",
    "        Args:\n",
    "          episode (int): number of episode\n",
    "        \"\"\"\n",
    "        self.epsilon = self.min_epsilon + (\n",
    "            self.max_epsilon - self.min_epsilon\n",
    "        ) * np.exp(-self.decay_rate * episode)\n",
    "\n",
    "    def get_action(self, state: int) -> int:\n",
    "        \"\"\"\n",
    "        select action e-greedy.exploration-exploitation trade-off:\n",
    "        - exploitation, max value for given state\n",
    "        - exploration, random choice\n",
    "\n",
    "        Args:\n",
    "          state (int): current state of the environment/agent\n",
    "\n",
    "        Returns:\n",
    "          action (int): action that the agent will take in the next step\n",
    "        \"\"\"\n",
    "        if random.uniform(0, 1) >= self.epsilon:\n",
    "            action = np.argmax(self.qtable[state, :])\n",
    "        else:\n",
    "            action = np.random.choice(self.action_size)\n",
    "        return action\n",
    "\n",
    "    def __str__(self) -> None:\n",
    "        \"\"\"plot the q-table\n",
    "        \"\"\"\n",
    "        headers = [f\"Action {action}\" for action in range(self.action_size)]\n",
    "        showindex = [f\"State {state}\" for state in range(self.state_size)]\n",
    "        # Generate the table in fancy format.\n",
    "        table = tabulate(self.qtable, headers=headers, showindex=showindex, tablefmt=\"fancy_grid\")\n",
    "        return f\"{self.name}\\n{table}\"\n"
   ]
  },
  {
   "cell_type": "code",
   "execution_count": 79,
   "metadata": {},
   "outputs": [],
   "source": [
    "def learn_to_play(agent: Qagent, max_game_steps: int = 10, total_episodes: int = 1000) -> Qagent:\n",
    "    \"\"\"\n",
    "    implementation of the q-learning algorithm, here the q-table values are calculated\n",
    "\n",
    "    Args:\n",
    "      max_game_steps (int): number of stepts an agent can take, before the environment is reset\n",
    "      total_episodes (int): total of training episodes (the number of trials a agent can do)\n",
    "    \"\"\"\n",
    "\n",
    "    rewards = np.zeros(total_episodes)\n",
    "    epsilons = np.zeros(total_episodes)\n",
    "    last_states = np.zeros(total_episodes)\n",
    "    q_averages = np.zeros(total_episodes)\n",
    "\n",
    "    start = time.time()\n",
    "\n",
    "    for episode in range(total_episodes):\n",
    "\n",
    "        state = env.reset()\n",
    "        game_rewards = 0\n",
    "\n",
    "        # for each episode loop over the max number of steps that are possible\n",
    "        # take an action and observe the outcome state (new_state), reward and stopping criterion\n",
    "        for step in range(max_game_steps):\n",
    "\n",
    "            action = agent.get_action(state)\n",
    "            new_state, reward, done, _ = env.step(action)\n",
    "            agent.update_qtable(state, new_state, action, reward, done)\n",
    "            state = new_state\n",
    "            game_rewards += reward\n",
    "\n",
    "            if done == True:\n",
    "                break\n",
    "\n",
    "        rewards[episode] = game_rewards / step\n",
    "        last_states[episode] = state\n",
    "        epsilons[episode] = agent.epsilon\n",
    "        q_averages[episode] = np.sum(agent.qtable)\n",
    "\n",
    "        # reduce epsilon, for exploration-exploitation tradeoff\n",
    "        agent.update_epsilon(episode)\n",
    "\n",
    "        if episode % 300 == 0:\n",
    "            elapsed_time = round((time.time() - start), 1)\n",
    "            print(f\"elapsed time [sec]: {elapsed_time}, episode: {episode}\")\n",
    "\n",
    "    agent.rewards = rewards\n",
    "    agent.last_states = last_states\n",
    "    agent.epsilons = epsilons\n",
    "    agent.q_averages = q_averages\n",
    "    return agent\n"
   ]
  },
  {
   "cell_type": "code",
   "execution_count": 80,
   "metadata": {},
   "outputs": [],
   "source": [
    "action_size = env.action_space.n\n",
    "state_size = env.observation_space.n\n",
    "\n",
    "# Set the training parameters\n",
    "env.env.slip = 0  # avoid slipping in on the chain\n",
    "\n",
    "max_game_steps = 10  # Set number of stepts an agent can take, before the environment is reset, \n",
    "total_episodes = 1000  # Set total of training episodes (the number of trials a agent can do)    "
   ]
  },
  {
   "cell_type": "markdown",
   "metadata": {},
   "source": [
    "### Note on learning paramaters\n",
    "-  gamma = 1: we care about all future rewards equally as the current one \n",
    "-  gamma = 0: we only care about the current reward)\n",
    "-  epsilon: smaller decay rate, more exploration"
   ]
  },
  {
   "cell_type": "markdown",
   "metadata": {},
   "source": [
    "### 🤓 Smart Agent 1 - the agent explores and takes future rewards into account"
   ]
  },
  {
   "cell_type": "code",
   "execution_count": 81,
   "metadata": {},
   "outputs": [
    {
     "name": "stdout",
     "output_type": "stream",
     "text": [
      "elapsed time [sec]: 0.0, episode: 0\n",
      "elapsed time [sec]: 0.2, episode: 300\n",
      "elapsed time [sec]: 0.3, episode: 600\n",
      "elapsed time [sec]: 0.4, episode: 900\n"
     ]
    }
   ],
   "source": [
    "\n",
    "name = 'Smart Agent 1 - the agent explores and takes future rewards into accountt'\n",
    "color = \"orange\"\n",
    "\n",
    "learning_parameters = {\n",
    "    'learning_rate': 0.8,\n",
    "    'gamma': 0.9 \n",
    "}  \n",
    "exploration_parameters = {\n",
    "    'epsilon': 1,\n",
    "    'max_epsilon': 1,\n",
    "    'min_epsilon': 0.0,\n",
    "    'decay_rate': 0.008\n",
    "} \n",
    "\n",
    "q_agent_1 = Qagent(action_size, state_size, learning_parameters, exploration_parameters, name, color)\n",
    "q_agent_1 = learn_to_play(q_agent_1, max_game_steps=max_game_steps, total_episodes=total_episodes)"
   ]
  },
  {
   "cell_type": "markdown",
   "metadata": {},
   "source": [
    "### 🤑 Greedy Agent 2 - the agent cares only about immediate rewards (small gamma)"
   ]
  },
  {
   "cell_type": "code",
   "execution_count": 82,
   "metadata": {},
   "outputs": [
    {
     "name": "stdout",
     "output_type": "stream",
     "text": [
      "elapsed time [sec]: 0.0, episode: 0\n",
      "elapsed time [sec]: 0.1, episode: 300\n",
      "elapsed time [sec]: 0.2, episode: 600\n",
      "elapsed time [sec]: 0.3, episode: 900\n"
     ]
    }
   ],
   "source": [
    "name = 'Greedy Agent 2 - the agent cares only about immediate rewards (small gamma)'\n",
    "color =  \"m\"\n",
    "\n",
    "learning_parameters = {\n",
    "    'learning_rate': 0.8,\n",
    "    'gamma': 0.01\n",
    "}   \n",
    "exploration_parameters = {\n",
    "    'epsilon': 1,\n",
    "    'max_epsilon': 0.5,\n",
    "    'min_epsilon': 0.0,\n",
    "    'decay_rate': 0.008\n",
    "} \n",
    "\n",
    "q_agent_2 = Qagent(action_size, state_size, learning_parameters, exploration_parameters, name, color)\n",
    "q_agent_2 = learn_to_play(q_agent_2, max_game_steps=max_game_steps, total_episodes=total_episodes)\n"
   ]
  },
  {
   "cell_type": "markdown",
   "metadata": {},
   "source": [
    "### 😳 Shy Agent 3 - the agent doesn't explore the environment (small epsilon)"
   ]
  },
  {
   "cell_type": "code",
   "execution_count": 83,
   "metadata": {},
   "outputs": [
    {
     "name": "stdout",
     "output_type": "stream",
     "text": [
      "elapsed time [sec]: 0.0, episode: 0\n",
      "elapsed time [sec]: 0.1, episode: 300\n",
      "elapsed time [sec]: 0.3, episode: 600\n",
      "elapsed time [sec]: 0.4, episode: 900\n"
     ]
    }
   ],
   "source": [
    "name = \"Shy Agent 3 - the agent doesn't explore the environment (small epsilon)\"\n",
    "color = \"b\"\n",
    "\n",
    "learning_parameters = {\n",
    "    'learning_rate': 0.8,\n",
    "    'gamma': 0.9\n",
    "} \n",
    "exploration_parameters = {\n",
    "    'epsilon': 1,\n",
    "    'max_epsilon': 0.2,\n",
    "    'min_epsilon': 0.0,\n",
    "    'decay_rate': 0.5\n",
    "} \n",
    "\n",
    "q_agent_3 = Qagent(action_size, state_size, learning_parameters, exploration_parameters, name, color)\n",
    "q_agent_3 = learn_to_play(q_agent_3, max_game_steps=max_game_steps, total_episodes=total_episodes)"
   ]
  },
  {
   "cell_type": "code",
   "execution_count": 84,
   "metadata": {},
   "outputs": [],
   "source": [
    "from visualize_plays import VisualizePlays\n",
    "# visualize the different agents\n",
    "plays = VisualizePlays(q_agent_1, q_agent_2, q_agent_3)\n",
    "plays.plot()"
   ]
  },
  {
   "cell_type": "markdown",
   "metadata": {},
   "source": [
    "## Investigating the q-table values\n",
    "higher values mean higher future rewards for this specific action-state pair"
   ]
  },
  {
   "cell_type": "code",
   "execution_count": null,
   "metadata": {},
   "outputs": [
    {
     "name": "stdout",
     "output_type": "stream",
     "text": [
      "Smart Agent 1 - the agent explores and takes future rewards into accountt\n",
      "╒═════════╤════════════╤════════════╕\n",
      "│         │   Action 0 │   Action 1 │\n",
      "╞═════════╪════════════╪════════════╡\n",
      "│ State 0 │      65.61 │     61.049 │\n",
      "├─────────┼────────────┼────────────┤\n",
      "│ State 1 │      72.9  │     61.049 │\n",
      "├─────────┼────────────┼────────────┤\n",
      "│ State 2 │      81    │     61.049 │\n",
      "├─────────┼────────────┼────────────┤\n",
      "│ State 3 │      90    │     61.049 │\n",
      "├─────────┼────────────┼────────────┤\n",
      "│ State 4 │     100    │     61.049 │\n",
      "╘═════════╧════════════╧════════════╛\n"
     ]
    }
   ],
   "source": [
    "print(f'{q_agent_1}')"
   ]
  },
  {
   "cell_type": "markdown",
   "metadata": {},
   "source": [
    "The q-table of case1 should have similar values like the following table:\n",
    "\n",
    "|       | Action 0  | Action 1 | \n",
    "| ------------- | ------------- | ------------- |\n",
    "| State 0 | 65.61  | 61.049  |\n",
    "| State 1 | 72.9  | 61.049  |\n",
    "| State 2 | 81.  | 61.049  |\n",
    "| State 3 | 90.  | 61.049  |\n",
    "| State 4 | 100.  | 61.049  |\n",
    "\n",
    "Legend:\n",
    "- Action 0 = move forward, but get no reward (in the last state get large reward)\n",
    "- Action 1 = move backward to state 0, get small reward"
   ]
  },
  {
   "cell_type": "code",
   "execution_count": null,
   "metadata": {},
   "outputs": [
    {
     "name": "stdout",
     "output_type": "stream",
     "text": [
      "Greedy Agent 2 - the agent cares only about immediate rewards (small gamma)\n",
      "╒═════════╤══════════════╤════════════╕\n",
      "│         │     Action 0 │   Action 1 │\n",
      "╞═════════╪══════════════╪════════════╡\n",
      "│ State 0 │  0.020202    │    2.0202  │\n",
      "├─────────┼──────────────┼────────────┤\n",
      "│ State 1 │  0.020202    │    2.0202  │\n",
      "├─────────┼──────────────┼────────────┤\n",
      "│ State 2 │  0.000945062 │    2.0202  │\n",
      "├─────────┼──────────────┼────────────┤\n",
      "│ State 3 │  0.0999749   │    0       │\n",
      "├─────────┼──────────────┼────────────┤\n",
      "│ State 4 │ 10.1002      │    2.01697 │\n",
      "╘═════════╧══════════════╧════════════╛\n"
     ]
    }
   ],
   "source": [
    "print(f'{q_agent_2}')"
   ]
  },
  {
   "cell_type": "code",
   "execution_count": null,
   "metadata": {},
   "outputs": [
    {
     "name": "stdout",
     "output_type": "stream",
     "text": [
      "Shy Agent 3 - the agent doesn't explore the environment (small epsilon)\n",
      "╒═════════╤════════════╤════════════╕\n",
      "│         │   Action 0 │   Action 1 │\n",
      "╞═════════╪════════════╪════════════╡\n",
      "│ State 0 │    13.7414 │    20      │\n",
      "├─────────┼────────────┼────────────┤\n",
      "│ State 1 │     0      │    18.8022 │\n",
      "├─────────┼────────────┼────────────┤\n",
      "│ State 2 │     0      │     2.752  │\n",
      "├─────────┼────────────┼────────────┤\n",
      "│ State 3 │     0      │     0      │\n",
      "├─────────┼────────────┼────────────┤\n",
      "│ State 4 │     0      │     0      │\n",
      "╘═════════╧════════════╧════════════╛\n"
     ]
    }
   ],
   "source": [
    "print(f'{q_agent_3}')"
   ]
  }
 ],
 "metadata": {
  "interpreter": {
   "hash": "75d2f3925b78c848dd174e39295d9555526cc76ae3240d337080fedfeeac2583"
  },
  "kernelspec": {
   "display_name": "Python 3.9.12 ('nchain_env')",
   "language": "python",
   "name": "python3"
  },
  "language_info": {
   "codemirror_mode": {
    "name": "ipython",
    "version": 3
   },
   "file_extension": ".py",
   "mimetype": "text/x-python",
   "name": "python",
   "nbconvert_exporter": "python",
   "pygments_lexer": "ipython3",
   "version": "3.9.12"
  }
 },
 "nbformat": 4,
 "nbformat_minor": 2
}
